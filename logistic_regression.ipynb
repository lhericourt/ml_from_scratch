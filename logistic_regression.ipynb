{
 "cells": [
  {
   "cell_type": "code",
   "execution_count": 1,
   "metadata": {},
   "outputs": [],
   "source": [
    "import numpy as np\n",
    "from sklearn.datasets import load_breast_cancer\n",
    "from sklearn.model_selection import StratifiedKFold\n",
    "from sklearn.linear_model import LogisticRegression\n",
    "from sklearn.metrics import accuracy_score\n"
   ]
  },
  {
   "cell_type": "markdown",
   "metadata": {},
   "source": [
    "# Load data"
   ]
  },
  {
   "cell_type": "code",
   "execution_count": 2,
   "metadata": {},
   "outputs": [],
   "source": [
    "data = load_breast_cancer()\n",
    "X = data['data']\n",
    "y = data['target'].reshape((-1, 1))"
   ]
  },
  {
   "cell_type": "code",
   "execution_count": 3,
   "metadata": {},
   "outputs": [],
   "source": [
    "X = X[np.where(y != 2)[0]]\n",
    "y = y[np.where(y != 2)[0]]"
   ]
  },
  {
   "cell_type": "markdown",
   "metadata": {},
   "source": [
    "# Baseline with sklearn package"
   ]
  },
  {
   "cell_type": "code",
   "execution_count": 4,
   "metadata": {},
   "outputs": [
    {
     "name": "stdout",
     "output_type": "stream",
     "text": [
      "Mean accuracy on train : 92.4%\n",
      "Standard deviation on train : 0.6%\n",
      "Mean accuracy on test : 92.3%\n",
      "Standard deviation on test : 2.8%\n"
     ]
    }
   ],
   "source": [
    "nb_splits = 5\n",
    "skf = StratifiedKFold(n_splits=nb_splits, shuffle=True, random_state=42)\n",
    "lr = LogisticRegression(penalty='none', solver='saga', max_iter=10000)\n",
    "\n",
    "score_train = list()\n",
    "score_test = list()\n",
    "\n",
    "for train_index, test_index in skf.split(X, y):\n",
    "    X_train, X_test = X[train_index], X[test_index]\n",
    "    y_train, y_test = y[train_index].ravel(), y[test_index].ravel()\n",
    "    lr.fit(X_train, y_train)\n",
    "    score_train.append(accuracy_score(y_train, lr.predict(X_train)))\n",
    "    score_test.append(accuracy_score(y_test, lr.predict(X_test)))\n",
    "\n",
    "    \n",
    "print(\"Mean accuracy on train : {0:.1f}%\".format(100 * np.mean(score_train)))\n",
    "print(\"Standard deviation on train : {0:.1f}%\".format(100 * np.std(score_train)))\n",
    "\n",
    "print(\"Mean accuracy on test : {0:.1f}%\".format(100 * np.mean(score_test)))\n",
    "print(\"Standard deviation on test : {0:.1f}%\".format(100 * np.std(score_test)))\n"
   ]
  },
  {
   "cell_type": "markdown",
   "metadata": {},
   "source": [
    "# Logistic Regression from scratch"
   ]
  },
  {
   "cell_type": "code",
   "execution_count": 5,
   "metadata": {},
   "outputs": [],
   "source": [
    "def sigmoid(X, W):\n",
    "    return 1 / (1 + np.exp(np.dot(X, -W.T)))"
   ]
  },
  {
   "cell_type": "code",
   "execution_count": 6,
   "metadata": {},
   "outputs": [],
   "source": [
    "def update_weights(X, y, W, alpha):\n",
    "    gradient = np.mean(X * sigmoid(X, W) - y * X, axis=0)\n",
    "    return W - alpha * gradient"
   ]
  },
  {
   "cell_type": "code",
   "execution_count": 7,
   "metadata": {},
   "outputs": [],
   "source": [
    "def compute_loss(X, y, W):\n",
    "    total_loss = np.dot(X, W.T) * y - np.log(1 + np.exp(np.dot(X, W.T)))\n",
    "    return - np.mean(total_loss)"
   ]
  },
  {
   "cell_type": "code",
   "execution_count": 8,
   "metadata": {},
   "outputs": [],
   "source": [
    "def init_X(X):\n",
    "    n_features = X.shape[1] + 1\n",
    "    n_samples = X.shape[0]\n",
    "\n",
    "    bias = np.ones((n_samples, 1))\n",
    "    X_and_bias = np.concatenate((bias, X), axis=1)\n",
    "    \n",
    "    return X_and_bias\n",
    "\n",
    "def init_W(X):\n",
    "    n_features = X.shape[1] + 1\n",
    "    seed = 42\n",
    "    W = np.random.RandomState(seed).normal(size=(1, n_features))\n",
    "    \n",
    "    return W"
   ]
  },
  {
   "cell_type": "code",
   "execution_count": 9,
   "metadata": {
    "scrolled": true
   },
   "outputs": [],
   "source": [
    "def fit_lr(X, y, nb_iter, stop_nb_iter, nb_iter_in_tolerance, stop_tolerance):\n",
    "    X_and_bias = init_X(X)\n",
    "    W = init_W(X)\n",
    "\n",
    "    alpha = 1e-4\n",
    "    saved_losses = list()\n",
    "    for i in range(nb_iter):\n",
    "        W = update_weights(X_and_bias, y, W, alpha)\n",
    "        loss =  compute_loss(X_and_bias, y, W)\n",
    "        if saved_losses and abs(loss - saved_losses[-1]) < stop_tolerance:\n",
    "            nb_iter_in_tolerance += 1\n",
    "        else:\n",
    "            nb_iter_in_tolerance = 0\n",
    "        if nb_iter_in_tolerance >= stop_nb_iter:\n",
    "            print(\"The logistic regression has converged in {} iteration\".format(i))\n",
    "            break\n",
    "        if i == nb_iter - 1:    \n",
    "            print(\"The logistic regression has not converged\")\n",
    "        saved_losses.append(loss)\n",
    "    \n",
    "    return W, saved_losses"
   ]
  },
  {
   "cell_type": "code",
   "execution_count": 10,
   "metadata": {},
   "outputs": [],
   "source": [
    "def predict_lr(X, W):\n",
    "    X_and_bias = init_X(X)\n",
    "    \n",
    "    predictions = sigmoid(X_and_bias, W)\n",
    "    predictions[predictions >= 0.5] = 1\n",
    "    predictions[predictions < 0.5] = 0\n",
    "\n",
    "    return predictions"
   ]
  },
  {
   "cell_type": "code",
   "execution_count": 11,
   "metadata": {},
   "outputs": [
    {
     "name": "stderr",
     "output_type": "stream",
     "text": [
      "/usr/local/lib/python3.7/site-packages/ipykernel_launcher.py:2: RuntimeWarning: overflow encountered in exp\n",
      "  \n"
     ]
    },
    {
     "name": "stdout",
     "output_type": "stream",
     "text": [
      "The logistic regression has converged in 22401 iteration\n",
      "The logistic regression has converged in 22281 iteration\n",
      "The logistic regression has converged in 25796 iteration\n",
      "The logistic regression has converged in 23741 iteration\n",
      "The logistic regression has converged in 23590 iteration\n",
      "Mean accuracy on train : 92.8%\n",
      "Standard deviation on train : 0.3%\n",
      "Mean accuracy on test : 92.5%\n",
      "Standard deviation on test : 2.0%\n"
     ]
    }
   ],
   "source": [
    "nb_iter = 30000\n",
    "stop_nb_iter = 10\n",
    "nb_iter_in_tolerance = 0\n",
    "stop_tolerance = 5e-6\n",
    "\n",
    "nb_splits = 5\n",
    "skf = StratifiedKFold(n_splits=nb_splits, shuffle=True, random_state=42)\n",
    "\n",
    "score_train = list()\n",
    "score_test = list()\n",
    "\n",
    "for train_index, test_index in skf.split(X, y):\n",
    "    X_train, X_test = X[train_index], X[test_index]\n",
    "    y_train, y_test = y[train_index], y[test_index]\n",
    "    W, loss = fit_lr(X_train, y_train, nb_iter, stop_nb_iter, nb_iter_in_tolerance, stop_tolerance)\n",
    "    score_train.append(accuracy_score(y_train, predict_lr(X_train, W)))\n",
    "    score_test.append(accuracy_score(y_test, predict_lr(X_test, W)))\n",
    "    \n",
    "print(\"Mean accuracy on train : {0:.1f}%\".format(100 * np.mean(score_train)))\n",
    "print(\"Standard deviation on train : {0:.1f}%\".format(100 * np.std(score_train)))\n",
    "\n",
    "print(\"Mean accuracy on test : {0:.1f}%\".format(100 * np.mean(score_test)))\n",
    "print(\"Standard deviation on test : {0:.1f}%\".format(100 * np.std(score_test)))\n"
   ]
  },
  {
   "cell_type": "code",
   "execution_count": 12,
   "metadata": {},
   "outputs": [
    {
     "data": {
      "text/plain": [
       "<Figure size 640x480 with 1 Axes>"
      ]
     },
     "metadata": {},
     "output_type": "display_data"
    }
   ],
   "source": [
    "from matplotlib import pyplot as plt\n",
    "plt.figure()\n",
    "plt.scatter(range(len(loss[100:])), loss[100:])\n",
    "plt.show()"
   ]
  },
  {
   "cell_type": "code",
   "execution_count": null,
   "metadata": {},
   "outputs": [],
   "source": []
  }
 ],
 "metadata": {
  "kernelspec": {
   "display_name": "Python 3",
   "language": "python",
   "name": "python3"
  },
  "language_info": {
   "codemirror_mode": {
    "name": "ipython",
    "version": 3
   },
   "file_extension": ".py",
   "mimetype": "text/x-python",
   "name": "python",
   "nbconvert_exporter": "python",
   "pygments_lexer": "ipython3",
   "version": "3.7.1"
  }
 },
 "nbformat": 4,
 "nbformat_minor": 2
}
